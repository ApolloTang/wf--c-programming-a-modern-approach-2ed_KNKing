{
 "cells": [
  {
   "cell_type": "code",
   "execution_count": null,
   "id": "5e8c870a-bbed-42f6-bbec-22955150776e",
   "metadata": {},
   "outputs": [],
   "source": [
    "# minimal output from pythons https://stackoverflow.com/a/78281950/3136861\n",
    "%xmode Minimal  "
   ]
  },
  {
   "cell_type": "code",
   "execution_count": 1,
   "id": "cb039ca2-5561-4698-b7eb-eb149907de82",
   "metadata": {},
   "outputs": [
    {
     "name": "stdout",
     "output_type": "stream",
     "text": [
      "Hello World\n",
      "sqrt(4) is 2.000000\n"
     ]
    }
   ],
   "source": [
    "/*\n",
    "    The Hello World Program in C\n",
    " */\n",
    "\n",
    "/* C math and I/O libraries */\n",
    "#include <math.h>\n",
    "#include <stdio.h>\n",
    "\n",
    "/* main function definition: */\n",
    "int main(void) {\n",
    "    // statements end in a semicolon (;)\n",
    "    printf(\"Hello World\\n\");\n",
    "    printf(\"sqrt(4) is %f\\n\", sqrt(4));\n",
    "\n",
    "    return 0;  // main returns value 0\n",
    "}"
   ]
  }
 ],
 "metadata": {
  "kernelspec": {
   "display_name": "C",
   "language": "c",
   "name": "c"
  },
  "language_info": {
   "file_extension": ".c",
   "mimetype": "text/plain",
   "name": "c"
  }
 },
 "nbformat": 4,
 "nbformat_minor": 5
}
