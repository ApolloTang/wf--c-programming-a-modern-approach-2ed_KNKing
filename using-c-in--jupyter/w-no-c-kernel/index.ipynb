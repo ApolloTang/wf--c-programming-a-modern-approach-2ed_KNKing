{
 "cells": [
  {
   "cell_type": "code",
   "execution_count": 7,
   "metadata": {},
   "outputs": [
    {
     "name": "stdout",
     "output_type": "stream",
     "text": [
      "Exception reporting mode: Minimal\n"
     ]
    }
   ],
   "source": [
    "# minimal output from pythons https://stackoverflow.com/a/78281950/3136861\n",
    "%xmode Minimal  "
   ]
  },
  {
   "cell_type": "code",
   "execution_count": 2,
   "metadata": {},
   "outputs": [
    {
     "name": "stdout",
     "output_type": "stream",
     "text": [
      "Writing main.c\n"
     ]
    }
   ],
   "source": [
    "%%file main.c\n",
    "#include <stdio.h>\n",
    "\n",
    "int main (void)\n",
    "{\n",
    "    printf(\"hello world this is C \\n\");\n",
    "}"
   ]
  },
  {
   "cell_type": "code",
   "execution_count": 3,
   "metadata": {},
   "outputs": [],
   "source": [
    "%%bash\n",
    "gcc main.c -g -o main"
   ]
  },
  {
   "cell_type": "code",
   "execution_count": 1,
   "metadata": {},
   "outputs": [
    {
     "name": "stdout",
     "output_type": "stream",
     "text": [
      "hello world this is C \n"
     ]
    }
   ],
   "source": [
    "%%bash\n",
    "./main"
   ]
  },
  {
   "cell_type": "code",
   "execution_count": 6,
   "metadata": {},
   "outputs": [
    {
     "name": "stdout",
     "output_type": "stream",
     "text": [
      "\u001b[01;34m.\u001b[0m/\n",
      "├── \u001b[00mindex.ipynb\u001b[0m\n",
      "├── \u001b[01;32mmain\u001b[0m*\n",
      "├── \u001b[00mmain.c\u001b[0m\n",
      "└── \u001b[01;34mmain.dSYM\u001b[0m/\n",
      "    └── \u001b[01;34mContents\u001b[0m/\n",
      "        ├── \u001b[00mInfo.plist\u001b[0m\n",
      "        └── \u001b[01;34mResources\u001b[0m/\n",
      "            ├── \u001b[01;34mDWARF\u001b[0m/\n",
      "            │   └── \u001b[00mmain\u001b[0m\n",
      "            └── \u001b[01;34mRelocations\u001b[0m/\n",
      "                └── \u001b[01;34mx86_64\u001b[0m/\n",
      "                    └── \u001b[00mmain.yml\u001b[0m\n",
      "\n",
      "7 directories, 6 files\n"
     ]
    }
   ],
   "source": [
    "%%bash\n",
    "tree -F"
   ]
  }
 ],
 "metadata": {
  "kernelspec": {
   "display_name": "Python 3 (ipykernel)",
   "language": "python",
   "name": "python3"
  },
  "language_info": {
   "codemirror_mode": {
    "name": "ipython",
    "version": 3
   },
   "file_extension": ".py",
   "mimetype": "text/x-python",
   "name": "python",
   "nbconvert_exporter": "python",
   "pygments_lexer": "ipython3",
   "version": "3.12.3"
  },
  "vscode": {
   "interpreter": {
    "hash": "397704579725e15f5c7cb49fe5f0341eb7531c82d19f2c29d197e8b64ab5776b"
   }
  }
 },
 "nbformat": 4,
 "nbformat_minor": 4
}
