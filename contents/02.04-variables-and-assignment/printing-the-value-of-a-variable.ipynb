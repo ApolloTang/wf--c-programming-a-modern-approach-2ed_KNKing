{
 "cells": [
  {
   "cell_type": "markdown",
   "id": "5ec6310d-90ea-4f62-9cdc-b95ed4cd1516",
   "metadata": {},
   "source": [
    "## Printing the Value of a Variable\n",
    "\n",
    "By default, `%f` displays a number with six digits after the decimal point:"
   ]
  },
  {
   "cell_type": "code",
   "execution_count": 5,
   "id": "0664077d-3e2b-4c8e-b714-033febf503ac",
   "metadata": {},
   "outputs": [
    {
     "name": "stdout",
     "output_type": "stream",
     "text": [
      "Profit: $2150.479980\n",
      "Profit: $2150.48\n"
     ]
    }
   ],
   "source": [
    "#include <stdio.h>\n",
    "\n",
    "int main(){ \n",
    "    float profit;\n",
    "    profit = 2150.48f;\n",
    "    printf(\"Profit: $%f\\n\", profit);  // %f displays a number with six digits after the decimal point.\n",
    "    printf(\"Profit: $%.2f\\n\", profit);\n",
    "    return 0;\n",
    "}\n"
   ]
  }
 ],
 "metadata": {
  "kernelspec": {
   "display_name": "C",
   "language": "c",
   "name": "c"
  },
  "language_info": {
   "file_extension": ".c",
   "mimetype": "text/plain",
   "name": "c"
  }
 },
 "nbformat": 4,
 "nbformat_minor": 5
}
